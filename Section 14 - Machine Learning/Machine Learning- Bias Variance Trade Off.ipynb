{
 "cells": [
  {
   "cell_type": "code",
   "execution_count": null,
   "id": "c3c5ab67",
   "metadata": {},
   "outputs": [],
   "source": [
    "# The Bias-varaince trade off is the point where we are adding noise by adding model complexity,\n",
    "# the training error goes down as it has to, but the test error is starting to go up. The model after\n",
    "# the bias trade off begins to overfit\n",
    "\n",
    "# What we are aiming for is something with Low Bias and Low Variance\n",
    "# Making the model too complex can cause your model to overfit you training data\n",
    "# this can cause large errors on new data\n",
    "\n",
    "\n"
   ]
  }
 ],
 "metadata": {
  "kernelspec": {
   "display_name": "Python 3 (ipykernel)",
   "language": "python",
   "name": "python3"
  },
  "language_info": {
   "codemirror_mode": {
    "name": "ipython",
    "version": 3
   },
   "file_extension": ".py",
   "mimetype": "text/x-python",
   "name": "python",
   "nbconvert_exporter": "python",
   "pygments_lexer": "ipython3",
   "version": "3.11.4"
  }
 },
 "nbformat": 4,
 "nbformat_minor": 5
}
