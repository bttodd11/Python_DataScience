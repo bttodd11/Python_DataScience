{
 "cells": [
  {
   "cell_type": "code",
   "execution_count": null,
   "id": "ec5a0738",
   "metadata": {},
   "outputs": [],
   "source": [
    "# Supervised learning algorithms are trained by labeled data that determined whether \n",
    "# the label is by user inputs. The concept is that from reading historical data the \n",
    "# algorithms will be able to determine what future data will be. \n",
    "\n",
    "# The data is split into 3 steps, the training data, the test data and the validation data.\n",
    "\n",
    "## Model Evaluation\n",
    "# Key classification metrics we need to understand are accuracy, recall, precision, and F1-Score\n",
    "# Binary classification is where there are only 2 available classes\n",
    "\n",
    "# Accuracy is the number of correct predictions made by the model divided by the total number of predictions. They are\n",
    "# more useful when the number of inputs are equal for the choices ( 2 Dogs , 2 Cats) \n",
    "\n",
    "# Recall is the ability to find the relevant cases within a dataset. Recall = true positives / true positives + false negatives\n",
    "\n",
    "# Precision is the ability to identify only the relevant data points. Precision = true positives / true positives + false positives\n",
    "\n",
    "# F1 Score optimal blend of precision and recall F1 Score = 2 * precision * recall / precision + recall\n",
    "\n",
    "# Regression task is when a model tried to predict continuous values, predicting he price of a given house from its features\n",
    "# is an example of a regression task. Attempting to predict the country a house is in given its features would be a classification task\n",
    "\n",
    "# Mean Absolute Error compares our prediction to the actual label, take the absolute value of that and take the average of that\n",
    "\n",
    "# Mean squared error takes the difference between and true value - our predicted values and squares it\n",
    "\n",
    "# Root Mean Square Error takes the sqaure root of your mean squared error\n",
    "\n",
    "\n"
   ]
  }
 ],
 "metadata": {
  "kernelspec": {
   "display_name": "Python 3 (ipykernel)",
   "language": "python",
   "name": "python3"
  },
  "language_info": {
   "codemirror_mode": {
    "name": "ipython",
    "version": 3
   },
   "file_extension": ".py",
   "mimetype": "text/x-python",
   "name": "python",
   "nbconvert_exporter": "python",
   "pygments_lexer": "ipython3",
   "version": "3.11.4"
  }
 },
 "nbformat": 4,
 "nbformat_minor": 5
}
